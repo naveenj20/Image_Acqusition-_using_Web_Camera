{
 "cells": [
  {
   "cell_type": "code",
   "execution_count": null,
   "id": "321e3ca3-5584-48d8-96c1-060ed5999339",
   "metadata": {},
   "outputs": [],
   "source": [
    "NAVEEN JAISANKER\n",
    "212224110039"
   ]
  },
  {
   "cell_type": "code",
   "execution_count": 11,
   "id": "281ceb4d-ba71-4c1f-83e7-c8197eb3f8cf",
   "metadata": {},
   "outputs": [],
   "source": [
    "import cv2\n",
    "obj = cv2.VideoCapture(0)\n",
    "while(True):\n",
    "    cap,frame = obj.read()\n",
    "    cv2.imshow('video.jpg',frame)\n",
    "    cv2.imwrite(\"pic.jpg\",frame)\n",
    "    if cv2.waitKey(1) == ord('q'):\n",
    "        break\n",
    "obj.release()"
   ]
  },
  {
   "cell_type": "code",
   "execution_count": null,
   "id": "dad64d09-20c0-4f7f-ba1e-bb8c35632cf4",
   "metadata": {},
   "outputs": [],
   "source": [
    "import cv2\n",
    "img = cv2.VideoCapture(0)\n",
    "while(True):\n",
    "    imagee,frame = img.read()\n",
    "    cv2.imshow('pic',frame)\n",
    "    if cv2.waitKey(1) == ord('q'):\n",
    "        break\n",
    "img.release()\n",
    "cv2.destroyAllWindows()"
   ]
  },
  {
   "cell_type": "code",
   "execution_count": null,
   "id": "e4d88112-8874-4b86-b880-31b7092acc33",
   "metadata": {},
   "outputs": [],
   "source": [
    "NAVEEN JAISANKER\n",
    "212224110039"
   ]
  },
  {
   "cell_type": "code",
   "execution_count": null,
   "id": "5a69c472-e9b6-4fed-8e56-f1c948cc34dd",
   "metadata": {},
   "outputs": [],
   "source": [
    "import numpy as np\n",
    "import cv2\n",
    "cap=cv2.VideoCapture(0)\n",
    "while True:\n",
    "    ret,frame=cap.read()\n",
    "    width=int(cap.get(3))\n",
    "    height=int(cap.get(4))\n",
    "    image=np.zeros(frame.shape,np.uint8)\n",
    "    smaller_frame=cv2.resize(frame,(0,0),fx=0.5,fy=0.5)\n",
    "    image[:height//2, :width//2]=smaller_frame\n",
    "    image[height//2:, :width//2]=smaller_frame\n",
    "    image[:height//2, width//2:]=smaller_frame\n",
    "    image[height//2:, width//2:]=smaller_frame\n",
    "    cv2.imshow('PIC',smaller_frame)\n",
    "    if cv2.waitKey(1)==ord('q'):\n",
    "        break\n",
    "cap.release()\n",
    "cv2.destroyAllWindows()"
   ]
  },
  {
   "cell_type": "code",
   "execution_count": null,
   "id": "84091680-45a5-448b-97a2-7bbcf75839d6",
   "metadata": {},
   "outputs": [],
   "source": [
    "import cv2\n",
    "import numpy as np\n",
    "cap = cv2.VideoCapture(0)\n",
    "while True:\n",
    "    ret, frame = cap.read() \n",
    "    width = int(cap.get(3))\n",
    "    height = int(cap.get(4))\n",
    "    image = np.zeros(frame.shape, np.uint8) \n",
    "    smaller_frame = cv2.resize(frame, (0,0), fx = 0.5, fy=0.5)\n",
    "    image[:height//2, :width//2] = cv2.rotate(smaller_frame,cv2.ROTATE_180)\n",
    "    image[height//2:, :width//2] = smaller_frame \n",
    "    image[:height//2, width//2:] = smaller_frame\n",
    "    image[height//2:, width//2:] = cv2.rotate(smaller_frame,cv2.ROTATE_180)\n",
    "    cv2.imshow('NATURE_PIC', image)\n",
    "    if cv2.waitKey(1)==ord('q'):\n",
    "        break\n",
    "cap.release()\n",
    "cv2.destroyAllWindows()"
   ]
  },
  {
   "cell_type": "code",
   "execution_count": null,
   "id": "cfa22c6c-90bc-449e-bddf-c7d4ef9e9e23",
   "metadata": {},
   "outputs": [],
   "source": [
    "NAVEEN JAISANKER\n",
    "212224110039"
   ]
  }
 ],
 "metadata": {
  "kernelspec": {
   "display_name": "Python 3 (ipykernel)",
   "language": "python",
   "name": "python3"
  },
  "language_info": {
   "codemirror_mode": {
    "name": "ipython",
    "version": 3
   },
   "file_extension": ".py",
   "mimetype": "text/x-python",
   "name": "python",
   "nbconvert_exporter": "python",
   "pygments_lexer": "ipython3",
   "version": "3.13.1"
  }
 },
 "nbformat": 4,
 "nbformat_minor": 5
}
